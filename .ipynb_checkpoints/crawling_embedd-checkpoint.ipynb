{
 "cells": [
  {
   "cell_type": "code",
   "execution_count": 1,
   "id": "f3b8a3cd-e555-4c62-99e5-9cffac1dcfc4",
   "metadata": {},
   "outputs": [],
   "source": [
    "from Crawling_Dataset import Crawling_Dataset\n",
    "import torch\n",
    "from torch.utils.data import Dataset, DataLoader\n",
    "from torchvision.transforms import Resize\n",
    "import cv2 \n",
    "import os\n",
    "import numpy as np\n",
    "from torchvision import transforms\n",
    "import torch.utils.data as data\n",
    "from facenet_pytorch import MTCNN, InceptionResnetV1"
   ]
  },
  {
   "cell_type": "code",
   "execution_count": 2,
   "id": "be0465dc-1828-4559-a474-30a96c1a5076",
   "metadata": {},
   "outputs": [],
   "source": [
    "test_path = '/opt/ml/data/celeb_30/cut_test'\n",
    "train_path = '/opt/ml/data/celeb_30/cut_train'\n",
    "BATCH_SIZE = 2"
   ]
  },
  {
   "cell_type": "code",
   "execution_count": 3,
   "id": "e20df1fe-8faa-4ab8-a8ba-8728b7fee791",
   "metadata": {},
   "outputs": [
    {
     "name": "stdout",
     "output_type": "stream",
     "text": [
      "Running on device: cuda:0\n"
     ]
    }
   ],
   "source": [
    "device = torch.device('cuda:0' if torch.cuda.is_available() else 'cpu')\n",
    "print('Running on device: {}'.format(device))"
   ]
  },
  {
   "cell_type": "code",
   "execution_count": 4,
   "id": "2f17f0f4-241b-4107-bc91-004fca8b5e7f",
   "metadata": {},
   "outputs": [],
   "source": [
    "transform = transforms.Compose([\n",
    "        np.float32,\n",
    "        transforms.ToTensor(),  # range [0, 255] -> [0.0, 1.0]\n",
    "        transforms.Normalize(mean=(0.5,0.5,0.5), std=(0.5,0.5,0.5)) # range [0.0, 1.0] -> [-1.0,1.0]\n",
    "    ])"
   ]
  },
  {
   "cell_type": "code",
   "execution_count": 5,
   "id": "eb18df88-9229-44c5-a0e9-ff0b08d47229",
   "metadata": {},
   "outputs": [],
   "source": [
    "dataset = Crawling_Dataset(Enrolled_FILE_PATH=train_path, TEST_FILE_PATH=test_path, transforms=transform)\n",
    "embedding_loader =data.DataLoader(dataset, batch_size=BATCH_SIZE, shuffle=True, num_workers=2, drop_last=False)"
   ]
  },
  {
   "cell_type": "code",
   "execution_count": 6,
   "id": "09e8faa0-2937-4a3b-b5a2-fcec10b9f0b5",
   "metadata": {},
   "outputs": [],
   "source": [
    "model = InceptionResnetV1(\n",
    "    classify=False,\n",
    "    pretrained='vggface2'\n",
    ").to(device)"
   ]
  },
  {
   "cell_type": "code",
   "execution_count": null,
   "id": "afcb2cfb-5c20-4f24-903b-a583a81c8b02",
   "metadata": {},
   "outputs": [],
   "source": [
    "def split_tensor(tensor) :\n",
    "    for i in range(tensor.size(0)):\n",
    "        sub_tensor = tensor[i]\n",
    "        print(sub_tensor)\n",
    "\n",
    "# 함수 호출\n",
    "split_tensor(input_tensor)"
   ]
  },
  {
   "cell_type": "code",
   "execution_count": 13,
   "id": "4c8ae94b-9248-40b7-9774-7d57df76a8cd",
   "metadata": {},
   "outputs": [
    {
     "name": "stdout",
     "output_type": "stream",
     "text": [
      "torch.Size([1, 3, 224, 224])\n",
      "torch.Size([1, 10, 3, 224, 224])\n",
      "torch.Size([1, 10, 3, 224, 224])\n",
      "torch.Size([1, 3, 224, 224])\n",
      "torch.Size([1, 512])\n"
     ]
    }
   ],
   "source": [
    "model.eval()\n",
    "with torch.no_grad():\n",
    "    for enrolled_image, enrolled_label, positive_blocks, negative_blocks in embedding_loader :\n",
    "        for batch in batchsize : \n",
    "            enrolled_image = enrolled_image[batch]\n",
    "            positive_blocks = positive_blocks[batch]\n",
    "            negative_blocks = negative_blocks[batch]\n",
    "            \n",
    "            print(enrolled_image.shape)\n",
    "            print(positive_blocks.shape)\n",
    "            print(negative_blocks.shape)\n",
    "        enrolled_image = enrolled_image.to(device)\n",
    "        print(enrolled_image.shape)\n",
    "        enrolled_embedding = model(enrolled_image)\n",
    "        print(enrolled_embedding.shape)\n",
    "        break"
   ]
  },
  {
   "cell_type": "code",
   "execution_count": null,
   "id": "8da95114-1e23-4f43-bb65-f2bceb2459e0",
   "metadata": {},
   "outputs": [],
   "source": []
  }
 ],
 "metadata": {
  "kernelspec": {
   "display_name": "Python 3 (ipykernel)",
   "language": "python",
   "name": "python3"
  },
  "language_info": {
   "codemirror_mode": {
    "name": "ipython",
    "version": 3
   },
   "file_extension": ".py",
   "mimetype": "text/x-python",
   "name": "python",
   "nbconvert_exporter": "python",
   "pygments_lexer": "ipython3",
   "version": "3.8.5"
  }
 },
 "nbformat": 4,
 "nbformat_minor": 5
}
