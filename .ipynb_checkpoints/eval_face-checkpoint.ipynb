{
 "cells": [
  {
   "cell_type": "code",
   "execution_count": null,
   "id": "271d828c-e899-4234-a5ec-f047a88701da",
   "metadata": {},
   "outputs": [],
   "source": [
    "!tensorboard --logdir=/opt/ml/insightface/recognition/arcface_torch/work_dirs/wf4m_r50/tensorboard"
   ]
  },
  {
   "cell_type": "code",
   "execution_count": null,
   "id": "0d8cb645-8f8d-4efd-962e-6df9f7af8a89",
   "metadata": {},
   "outputs": [],
   "source": [
    "from deepface import "
   ]
  },
  {
   "cell_type": "code",
   "execution_count": null,
   "id": "0ca41c40-ddbc-4fa3-9107-d3341e6d6b02",
   "metadata": {},
   "outputs": [],
   "source": [
    "from torch.utils.data import Dataset, DataLoader\n",
    "from Crawling_Dataset import Crawling_Nomal_Dataset\n",
    "import torch\n",
    "import cv2 \n",
    "import os\n",
    "import numpy as np\n",
    "from torchvision import transforms\n",
    "import torch.utils.data as data\n",
    "from facenet_pytorch import MTCNN, InceptionResnetV1, fixed_image_standardization\n",
    "import math\n",
    "import tqdm as tqdm\n",
    "import matplotlib.pyplot as plt\n",
    "from PIL import Image\n",
    "from collections import defaultdict"
   ]
  },
  {
   "cell_type": "code",
   "execution_count": null,
   "id": "cd61ccce-fa06-421d-ab18-1aa2f81826bf",
   "metadata": {},
   "outputs": [],
   "source": [
    "test_dataset = Crawling_Nomal_Dataset(test_path, transforms=transform)\n",
    "test_embedding_loader = data.DataLoader(test_dataset, batch_size=1, shuffle=True, num_workers=2, drop_last=False)\n",
    "\n",
    "idendities = defaultdict(lambda : list())\n",
    "\n",
    "for img,  path_label_list in test_embedding_loader :\n",
    "    img_path = path_label_list[0][0]\n",
    "    img_label = path_label_list[1][0]\n",
    "    identities[img_label].append(img_path)"
   ]
  },
  {
   "cell_type": "code",
   "execution_count": null,
   "id": "15914cdf-34c8-4157-bb11-7e4fc555488b",
   "metadata": {},
   "outputs": [],
   "source": [
    "idendities = {\n",
    " \"Angelina\": [\"img1.jpg\", \"img2.jpg\", \"img4.jpg\"\n",
    " , \"img5.jpg\", \"img6.jpg\", \"img7.jpg\", \"img10.jpg\", \"img11.jpg\"],\n",
    " \"Scarlett\": [\"img8.jpg\", \"img9.jpg\"],\n",
    " \"Jennifer\": [\"img3.jpg\", \"img12.jpg\"],\n",
    " \"Mark\": [\"img13.jpg\", \"img14.jpg\", \"img15.jpg\"],\n",
    " \"Jack\": [\"img16.jpg\", \"img17.jpg\"],\n",
    " \"Elon\": [\"img18.jpg\", \"img19.jpg\"],\n",
    " \"Jeff\": [\"img20.jpg\", \"img21.jpg\"],\n",
    " \"Marissa\": [\"img22.jpg\", \"img23.jpg\"],\n",
    " \"Sundar\": [\"img24.jpg\", \"img25.jpg\"]\n",
    "}"
   ]
  },
  {
   "cell_type": "code",
   "execution_count": null,
   "id": "4d40d4c6-639f-444a-8120-1fafb72b6513",
   "metadata": {},
   "outputs": [],
   "source": [
    "from insightface.recognition.arcface_torch import IResNet, IBasicBlock"
   ]
  },
  {
   "cell_type": "code",
   "execution_count": null,
   "id": "a3e6e638-ce09-4df8-ab7a-3405573318c1",
   "metadata": {},
   "outputs": [],
   "source": [
    "model_pth = '/opt/ml/insightface/recognition/arcface_torch/work_dirs/wf4m_r50/model.pt'"
   ]
  },
  {
   "cell_type": "code",
   "execution_count": null,
   "id": "ae89fc10-e640-4b1c-a175-3078629a3c54",
   "metadata": {},
   "outputs": [],
   "source": [
    "model = IResNet(IBasicBlock, [3, 4, 14, 3], fp16=True, num_features=512)\n",
    "model.load_state_dict(torch.load(model_pth))"
   ]
  },
  {
   "cell_type": "code",
   "execution_count": null,
   "id": "872423e9-094c-4197-889d-5abffc433ed1",
   "metadata": {},
   "outputs": [],
   "source": [
    "import pandas as pd"
   ]
  },
  {
   "cell_type": "code",
   "execution_count": null,
   "id": "cda801fe-444b-4160-bb0c-1d5771659db4",
   "metadata": {},
   "outputs": [],
   "source": [
    "positives = []\n",
    "for key, values in idendities.items():\n",
    " for i in range(0, len(values)-1):\n",
    "  for j in range(i+1, len(values)):\n",
    "   positive = []\n",
    "   positive.append(values[i])\n",
    "   positive.append(values[j])\n",
    "   positives.append(positive)\n",
    " \n",
    "positives = pd.DataFrame(positives, columns = [\"file_x\", \"file_y\"])\n",
    "positives[\"decision\"] = \"Yes\""
   ]
  },
  {
   "cell_type": "code",
   "execution_count": null,
   "id": "fc06c6c2-9dc8-4511-864d-940d9ccbbff7",
   "metadata": {},
   "outputs": [],
   "source": [
    "samples_list = list(idendities.values())\n",
    " \n",
    "negatives = []\n",
    "for i in range(0, len(idendities) - 1):\n",
    " for j in range(i+1, len(idendities)):\n",
    "  cross_product = itertools.product(samples_list[i], samples_list[j])\n",
    "  cross_product = list(cross_product)\n",
    " \n",
    "  for cross_sample in cross_product:\n",
    "   negative = []\n",
    "   negative.append(cross_sample[0])\n",
    "   negative.append(cross_sample[1])\n",
    "   negatives.append(negative)\n",
    " \n",
    "negatives = pd.DataFrame(negatives, columns = [\"file_x\", \"file_y\"])\n",
    "negatives[\"decision\"] = \"No\""
   ]
  },
  {
   "cell_type": "code",
   "execution_count": null,
   "id": "a913d914-ffe1-4566-877f-4358b9a18090",
   "metadata": {},
   "outputs": [],
   "source": [
    "df = pd.concat([positives, negatives]).reset_index(drop = True)\n",
    " \n",
    "df.file_x = \"dataset/\"+df.file_x\n",
    "df.file_y = \"dataset/\"+df.file_y"
   ]
  },
  {
   "cell_type": "code",
   "execution_count": null,
   "id": "7bf513ef-80e1-4108-b633-a642cd0395aa",
   "metadata": {},
   "outputs": [],
   "source": [
    "# get distance"
   ]
  },
  {
   "cell_type": "code",
   "execution_count": null,
   "id": "dd420b77-f5e9-4913-9240-2cf1e060a089",
   "metadata": {},
   "outputs": [],
   "source": [
    "distances = []\n",
    "for i in range(0, len(instances)):\n",
    " distance = round(resp_obj[\"pair_%s\" % (i+1)][\"distance\"], 4)\n",
    " distances.append(distance)\n",
    " \n",
    "df[\"distance\"] = distances"
   ]
  },
  {
   "cell_type": "code",
   "execution_count": null,
   "id": "f7f50f3f-4e44-4d29-9f66-7d2ac68a0718",
   "metadata": {},
   "outputs": [],
   "source": [
    "# analysis distance\n",
    "tp_mean = round(df[df.decision == \"Yes\"].mean().values[0], 4)\n",
    "tp_std = round(df[df.decision == \"Yes\"].std().values[0], 4)\n",
    "fp_mean = round(df[df.decision == \"No\"].mean().values[0], 4)\n",
    "fp_std = round(df[df.decision == \"No\"].std().values[0], 4)"
   ]
  },
  {
   "cell_type": "code",
   "execution_count": null,
   "id": "e203d5dd-2f9b-4c41-95f4-5a4647b02a59",
   "metadata": {},
   "outputs": [],
   "source": [
    "df[df.decision == \"Yes\"].distance.plot.kde()\n",
    "df[df.decision == \"No\"].distance.plot.kde()"
   ]
  },
  {
   "cell_type": "code",
   "execution_count": null,
   "id": "bc3362f0-448d-4ed1-8592-4a461843eeb9",
   "metadata": {},
   "outputs": [],
   "source": [
    "# decision trees\n",
    "from chefboost import Chefboost as chef\n",
    "config = {'algorithm': 'C4.5'}\n",
    "tmp_df = df[['distance', 'decision']].rename(columns = {\"decision\": \"Decision\"}).copy()\n",
    "model = chef.fit(tmp_df, config)"
   ]
  },
  {
   "cell_type": "code",
   "execution_count": null,
   "id": "32c20465-5f1a-479d-9dca-3648808e1807",
   "metadata": {},
   "outputs": [],
   "source": [
    "def findDecision(distance):\n",
    "   if distance<=0.3147:\n",
    "      return 'Yes'\n",
    "   elif distance>0.3147:\n",
    "      return 'No'"
   ]
  },
  {
   "cell_type": "code",
   "execution_count": null,
   "id": "640c9a8e-fbb2-4b60-b615-9dcfd7950eab",
   "metadata": {},
   "outputs": [],
   "source": [
    "# verification\n",
    "df[\"prediction\"] = \"No\" #init\n",
    "idx = df[df.distance <= threshold].index\n",
    "df.loc[idx, 'prediction'] = 'Yes'"
   ]
  },
  {
   "cell_type": "code",
   "execution_count": null,
   "id": "c29df4b2-48f2-4354-be77-ab9b1eb05a1a",
   "metadata": {},
   "outputs": [],
   "source": [
    "# evaluation\n",
    "from sklearn.metrics import confusion_matrix\n",
    "cm = confusion_matrix(df.decision.values, df.prediction.values)\n",
    "print(cm)\n",
    "tn, fp, fn, tp = cm.ravel()\n",
    "recall = tp / (tp + fn)\n",
    "precision = tp / (tp + fp)\n",
    "accuracy = (tp + tn)/(tn + fp +  fn + tp)\n",
    "f1 = 2 * (precision * recall) / (precision + recall)"
   ]
  }
 ],
 "metadata": {
  "kernelspec": {
   "display_name": "Python 3 (ipykernel)",
   "language": "python",
   "name": "python3"
  },
  "language_info": {
   "codemirror_mode": {
    "name": "ipython",
    "version": 3
   },
   "file_extension": ".py",
   "mimetype": "text/x-python",
   "name": "python",
   "nbconvert_exporter": "python",
   "pygments_lexer": "ipython3",
   "version": "3.8.5"
  }
 },
 "nbformat": 4,
 "nbformat_minor": 5
}
