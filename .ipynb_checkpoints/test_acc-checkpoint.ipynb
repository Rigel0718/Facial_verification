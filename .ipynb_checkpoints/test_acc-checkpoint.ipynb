{
 "cells": [
  {
   "cell_type": "code",
   "execution_count": 102,
   "id": "dd62269f-c86c-4cf4-ab16-d6c9c8667bbb",
   "metadata": {},
   "outputs": [],
   "source": [
    "from Crawling_Dataset import Crawling_Dataset\n",
    "import torch\n",
    "from torch.utils.data import Dataset, DataLoader\n",
    "from torchvision.transforms import Resize\n",
    "import cv2 \n",
    "import os\n",
    "import numpy as np\n",
    "from torchvision import transforms\n",
    "import torch.utils.data as data\n",
    "from facenet_pytorch import MTCNN, InceptionResnetV1"
   ]
  },
  {
   "cell_type": "code",
   "execution_count": 103,
   "id": "ea44db58-4554-4880-b834-21edae0fee8b",
   "metadata": {},
   "outputs": [],
   "source": [
    "import matplotlib.pyplot as plt\n",
    "from PIL import Image"
   ]
  },
  {
   "cell_type": "code",
   "execution_count": 104,
   "id": "4848396f-a650-4ca1-ad7f-51067cbe019b",
   "metadata": {},
   "outputs": [],
   "source": [
    "test_path = '/opt/ml/data/celeb_30/cut_test'\n",
    "train_path = '/opt/ml/data/celeb_30/cut_train'"
   ]
  },
  {
   "cell_type": "code",
   "execution_count": 105,
   "id": "509fc51d-04f8-4749-a798-3b0bcf50831f",
   "metadata": {},
   "outputs": [
    {
     "name": "stdout",
     "output_type": "stream",
     "text": [
      "Running on device: cuda:0\n"
     ]
    }
   ],
   "source": [
    "device = torch.device('cuda:0' if torch.cuda.is_available() else 'cpu')\n",
    "print('Running on device: {}'.format(device))"
   ]
  },
  {
   "cell_type": "code",
   "execution_count": 106,
   "id": "bba8bd0f-b9ab-49c4-a520-baa3dac1e65e",
   "metadata": {},
   "outputs": [],
   "source": [
    "transform = transforms.Compose([\n",
    "        np.float32,\n",
    "        transforms.ToTensor(),  # range [0, 255] -> [0.0, 1.0]\n",
    "        transforms.Normalize(mean=(0.5,0.5,0.5), std=(0.5,0.5,0.5)) # range [0.0, 1.0] -> [-1.0,1.0]\n",
    "    ])"
   ]
  },
  {
   "cell_type": "code",
   "execution_count": 107,
   "id": "0b7de176-d2c8-4fca-950e-abc858630827",
   "metadata": {},
   "outputs": [],
   "source": [
    "dataset = Crawling_Dataset(Enrolled_FILE_PATH=train_path, TEST_FILE_PATH=test_path, transforms=transform)\n",
    "embedding_loader =data.DataLoader(dataset, batch_size=1, shuffle=True, num_workers=2, drop_last=False)"
   ]
  },
  {
   "cell_type": "code",
   "execution_count": 108,
   "id": "1bebd368-9fcf-4342-8745-8477322955bd",
   "metadata": {},
   "outputs": [],
   "source": [
    "model = InceptionResnetV1(\n",
    "    classify=False,\n",
    "    pretrained='vggface2'\n",
    ").to(device)"
   ]
  },
  {
   "cell_type": "code",
   "execution_count": 109,
   "id": "e18a2f40-4c52-49d5-9f4b-b989ebcc59ff",
   "metadata": {},
   "outputs": [
    {
     "data": {
      "text/plain": [
       "200"
      ]
     },
     "execution_count": 109,
     "metadata": {},
     "output_type": "execute_result"
    }
   ],
   "source": [
    "len(dataset)"
   ]
  },
  {
   "cell_type": "code",
   "execution_count": 110,
   "id": "cd8ca6e8-5db5-4b9d-ac97-59815ae862a1",
   "metadata": {},
   "outputs": [],
   "source": [
    "# result = {'enrolled_image' : img,\n",
    "#                   'positive_image_path' : positive_image_path,\n",
    "#                   'negative_image_path' : negative_image_path,\n",
    "#                   'image_label' : image_label,\n",
    "#                   'image_path' : image_path,\n",
    "#                   'test' : filename}"
   ]
  },
  {
   "cell_type": "code",
   "execution_count": 111,
   "id": "63b69db7-aea5-404e-8f3d-9c619142f867",
   "metadata": {},
   "outputs": [
    {
     "ename": "ValueError",
     "evalue": "too many values to unpack (expected 4)",
     "output_type": "error",
     "traceback": [
      "\u001b[0;31m---------------------------------------------------------------------------\u001b[0m",
      "\u001b[0;31mValueError\u001b[0m                                Traceback (most recent call last)",
      "Cell \u001b[0;32mIn[111], line 3\u001b[0m\n\u001b[1;32m      1\u001b[0m model\u001b[38;5;241m.\u001b[39meval()\n\u001b[1;32m      2\u001b[0m \u001b[38;5;28;01mwith\u001b[39;00m torch\u001b[38;5;241m.\u001b[39mno_grad():\n\u001b[0;32m----> 3\u001b[0m     \u001b[38;5;28;01mfor\u001b[39;00m enrolled_image, enrolled_label, positive_blocks, negative_blocks \u001b[38;5;129;01min\u001b[39;00m embedding_loader :\n\u001b[1;32m      4\u001b[0m         \u001b[38;5;28mprint\u001b[39m(result)\n\u001b[1;32m      5\u001b[0m         enrolled_image \u001b[38;5;241m=\u001b[39m enrolled_image\u001b[38;5;241m.\u001b[39mto(device)\n",
      "\u001b[0;31mValueError\u001b[0m: too many values to unpack (expected 4)"
     ]
    }
   ],
   "source": [
    "model.eval()\n",
    "with torch.no_grad():\n",
    "    for enrolled_image, enrolled_label, positive_blocks, negative_blocks in embedding_loader :\n",
    "        print(result)\n",
    "        enrolled_image = enrolled_image.to(device)\n",
    "        print(enrolled_image.shape)\n",
    "        enrolled_embedding = model(enrolled_image)\n",
    "        print(enrolled_embedding.shape)\n",
    "        break"
   ]
  },
  {
   "cell_type": "code",
   "execution_count": null,
   "id": "8a87317f-cbad-4cd3-b757-7cdc415e8b10",
   "metadata": {},
   "outputs": [],
   "source": []
  }
 ],
 "metadata": {
  "kernelspec": {
   "display_name": "Python 3 (ipykernel)",
   "language": "python",
   "name": "python3"
  },
  "language_info": {
   "codemirror_mode": {
    "name": "ipython",
    "version": 3
   },
   "file_extension": ".py",
   "mimetype": "text/x-python",
   "name": "python",
   "nbconvert_exporter": "python",
   "pygments_lexer": "ipython3",
   "version": "3.8.5"
  }
 },
 "nbformat": 4,
 "nbformat_minor": 5
}
