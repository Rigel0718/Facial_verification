{
 "cells": [
  {
   "cell_type": "code",
   "execution_count": 68,
   "id": "d5b2648e-8c21-48d4-945b-33c9ea483acf",
   "metadata": {},
   "outputs": [],
   "source": [
    "from Crawling_Dataset import Crawling_Nomal_Dataset\n",
    "import torch\n",
    "from torch.utils.data import Dataset, DataLoader\n",
    "from torchvision.transforms import Resize\n",
    "import cv2 \n",
    "import os\n",
    "import numpy as np\n",
    "from torchvision import transforms\n",
    "import torch.utils.data as data\n",
    "from facenet_pytorch import MTCNN, InceptionResnetV1, fixed_image_standardization\n",
    "import math"
   ]
  },
  {
   "cell_type": "code",
   "execution_count": 69,
   "id": "fba8ddfb-6a65-452a-b75f-7112bf7cbf96",
   "metadata": {},
   "outputs": [],
   "source": [
    "test_path = '/opt/ml/data/celeb_30/cut_test'\n",
    "train_path = '/opt/ml/data/celeb_30/cut_train'\n",
    "BATCH_SIZE = 10"
   ]
  },
  {
   "cell_type": "code",
   "execution_count": 70,
   "id": "0bba0690-3135-4a2f-8c92-26e9839d7316",
   "metadata": {},
   "outputs": [
    {
     "name": "stdout",
     "output_type": "stream",
     "text": [
      "Running on device: cuda:0\n"
     ]
    }
   ],
   "source": [
    "device = torch.device('cuda:0' if torch.cuda.is_available() else 'cpu')\n",
    "print('Running on device: {}'.format(device))"
   ]
  },
  {
   "cell_type": "code",
   "execution_count": 71,
   "id": "e58de5df-0197-4edf-9745-513f99b01fe5",
   "metadata": {},
   "outputs": [],
   "source": [
    "transform = transforms.Compose([\n",
    "        np.float32,\n",
    "        transforms.ToTensor(),  # range [0, 255] -> [0.0, 1.0]\n",
    "        fixed_image_standardization\n",
    "    ])"
   ]
  },
  {
   "cell_type": "code",
   "execution_count": 72,
   "id": "c4cd953b-2c62-4285-8f98-2f5ee9c58d33",
   "metadata": {},
   "outputs": [],
   "source": [
    "test_dataset = Crawling_Nomal_Dataset(test_path, transforms=transform)\n",
    "train_dataset = Crawling_Nomal_Dataset(train_path, transforms=transform)\n",
    "test_embedding_loader = data.DataLoader(test_dataset, batch_size=BATCH_SIZE, shuffle=True, num_workers=2, drop_last=False)\n",
    "train_embedding_loader = data.DataLoader(train_dataset, batch_size=1, shuffle=True, num_workers=2, drop_last=False)"
   ]
  },
  {
   "cell_type": "code",
   "execution_count": 73,
   "id": "9e2bb31b-899e-4d89-9db2-8e350196b427",
   "metadata": {},
   "outputs": [],
   "source": [
    "labels = train_dataset.name_labels"
   ]
  },
  {
   "cell_type": "code",
   "execution_count": 74,
   "id": "f4de7430-0d90-47d1-b954-c275f063203c",
   "metadata": {},
   "outputs": [
    {
     "name": "stdout",
     "output_type": "stream",
     "text": [
      "{0: 'Jangdoyoun', 1: 'BTSsuga', 2: 'Yimsiwan', 3: 'Shinsekyung', 4: 'Leeseungki', 5: 'Taeyeon', 6: 'Sonhuengmin', 7: 'BTSjhin', 8: 'Yooyeonseok', 9: 'Ahnyoungmi', 10: 'Jojeongseok', 11: 'Chunwoohee', 12: 'Hanhyojoo', 13: 'Jokyuhyun', 14: 'Ohyeonseo', 15: 'Parkhaseon', 16: 'Leegookju', 17: 'SongJoongki', 18: 'Parknarae', 19: 'Parkjiseong'}\n"
     ]
    }
   ],
   "source": [
    "NUM2NAME_dict = train_dataset.get_label_dict_NUM2NAME()\n",
    "NAME2NUM_dict = train_dataset.get_label_dict_NAME2NUM()\n",
    "print(NUM2NAME_dict)"
   ]
  },
  {
   "cell_type": "code",
   "execution_count": 75,
   "id": "47f93d7e-3e40-4af5-a260-ad40a55def27",
   "metadata": {},
   "outputs": [],
   "source": [
    "model = InceptionResnetV1(\n",
    "    classify=False,\n",
    "    pretrained='vggface2'\n",
    ").to(device)"
   ]
  },
  {
   "cell_type": "code",
   "execution_count": 76,
   "id": "39e15fdc-0225-4dec-ad09-9789418cb3a9",
   "metadata": {},
   "outputs": [],
   "source": [
    "def get_embedding(feature ) :\n",
    "    feature = feature.to(device)\n",
    "    embedding = model(feature)\n",
    "    embedding = embedding.to('cpu').numpy()\n",
    "    return embedding"
   ]
  },
  {
   "cell_type": "code",
   "execution_count": 77,
   "id": "3ff40c63-b3d7-45ca-a60f-77b354938179",
   "metadata": {},
   "outputs": [],
   "source": [
    "def distance(embeddings1, embeddings2, distance_metric=0):\n",
    "    if distance_metric==0:\n",
    "        # Euclidian distance\n",
    "        diff = np.subtract(embeddings1, embeddings2)\n",
    "        dist = np.sum(np.square(diff),1)\n",
    "    elif distance_metric==1:\n",
    "        # Distance based on cosine similarity\n",
    "        dot = np.sum(np.multiply(embeddings1, embeddings2), axis=1)\n",
    "        norm = np.linalg.norm(embeddings1, axis=1) * np.linalg.norm(embeddings2, axis=1)\n",
    "        similarity = dot / norm\n",
    "        dist = np.arccos(similarity) / math.pi\n",
    "    else:\n",
    "        raise 'Undefined distance metric %d' % distance_metric\n",
    "\n",
    "    return dist"
   ]
  },
  {
   "cell_type": "code",
   "execution_count": 67,
   "id": "3e7afee0-22a7-4f2d-852c-a51bfefc9abb",
   "metadata": {},
   "outputs": [
    {
     "ename": "ValueError",
     "evalue": "too many values to unpack (expected 2)",
     "output_type": "error",
     "traceback": [
      "\u001b[0;31m---------------------------------------------------------------------------\u001b[0m",
      "\u001b[0;31mValueError\u001b[0m                                Traceback (most recent call last)",
      "Cell \u001b[0;32mIn[67], line 3\u001b[0m\n\u001b[1;32m      1\u001b[0m model\u001b[38;5;241m.\u001b[39meval()\n\u001b[1;32m      2\u001b[0m \u001b[38;5;28;01mwith\u001b[39;00m torch\u001b[38;5;241m.\u001b[39mno_grad():\n\u001b[0;32m----> 3\u001b[0m     \u001b[38;5;28;01mfor\u001b[39;00m feature, b \u001b[38;5;129;01min\u001b[39;00m train_embedding_loader :\n\u001b[1;32m      4\u001b[0m         train_embedding \u001b[38;5;241m=\u001b[39m get_embedding(feature)\n\u001b[1;32m      5\u001b[0m         \u001b[38;5;28mprint\u001b[39m(train_embedding\u001b[38;5;241m.\u001b[39mshape)\n",
      "\u001b[0;31mValueError\u001b[0m: too many values to unpack (expected 2)"
     ]
    }
   ],
   "source": [
    "model.eval()\n",
    "with torch.no_grad():\n",
    "    for feature, b in train_embedding_loader :\n",
    "        train_embedding = get_embedding(feature)\n",
    "        print(train_embedding.shape)\n",
    "        print(c)\n",
    "        label_embedding_list = []\n",
    "        for test_feature, label_list in test_embedding_loader :\n",
    "            test_embedding = get_embedding(test_feature)\n",
    "            print(test_embedding.shape)\n",
    "            dist = distance(train_embedding, test_embedding, 0)\n",
    "            test_label_nums = test_label_nums.tolist()\n",
    "            for pair in zip(dist, label_list) :\n",
    "                label_embedding_list.append(pair)\n",
    "        label_embedding_list = sorted(label_embedding_list)\n",
    "        print(len(label_embedding_list))\n",
    "        print(label_embedding_list[:10])\n",
    "        break"
   ]
  },
  {
   "cell_type": "code",
   "execution_count": null,
   "id": "5d6edf21-3346-4d39-8286-3fd605d87a97",
   "metadata": {},
   "outputs": [],
   "source": []
  }
 ],
 "metadata": {
  "kernelspec": {
   "display_name": "Python 3 (ipykernel)",
   "language": "python",
   "name": "python3"
  },
  "language_info": {
   "codemirror_mode": {
    "name": "ipython",
    "version": 3
   },
   "file_extension": ".py",
   "mimetype": "text/x-python",
   "name": "python",
   "nbconvert_exporter": "python",
   "pygments_lexer": "ipython3",
   "version": "3.8.5"
  }
 },
 "nbformat": 4,
 "nbformat_minor": 5
}
