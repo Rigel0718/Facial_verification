{
 "cells": [
  {
   "cell_type": "code",
   "execution_count": 1,
   "id": "c5721213-248f-45b1-a9a2-adabcb8b42a4",
   "metadata": {},
   "outputs": [],
   "source": [
    "from Validation_statistic import validation, fine_tuning_threshold"
   ]
  },
  {
   "cell_type": "code",
   "execution_count": 2,
   "id": "1785e446-9e23-47fa-ac02-6f096bbc7c77",
   "metadata": {},
   "outputs": [],
   "source": [
    "from torch.utils.data import Dataset, DataLoader\n",
    "from Crawling_Dataset import Crawling_Nomal_Dataset\n",
    "import torch\n",
    "import cv2 \n",
    "import os\n",
    "import numpy as np\n",
    "from torchvision import transforms\n",
    "import torch.utils.data as data\n",
    "from facenet_pytorch import MTCNN, fixed_image_standardization, InceptionResnetV1\n",
    "import math\n",
    "import tqdm as tqdm\n",
    "import matplotlib.pyplot as plt\n",
    "from PIL import Image\n",
    "from collections import defaultdict\n",
    "from torchvision.transforms import Resize\n",
    "# from cheff import bring"
   ]
  },
  {
   "cell_type": "code",
   "execution_count": 3,
   "id": "61c0c121-8fe3-4cf4-9777-7ed723ff8535",
   "metadata": {},
   "outputs": [
    {
     "name": "stdout",
     "output_type": "stream",
     "text": [
      "Running on device: cuda:0\n"
     ]
    }
   ],
   "source": [
    "device = torch.device('cuda:0' if torch.cuda.is_available() else 'cpu')\n",
    "print('Running on device: {}'.format(device))"
   ]
  },
  {
   "cell_type": "code",
   "execution_count": 4,
   "id": "c27e3eae-7de5-4941-a134-785fd6bd17ce",
   "metadata": {},
   "outputs": [],
   "source": [
    "# test_path = '/opt/ml/data/celeb/cut_test' \n",
    "test_path = '/opt/ml/data/celeb/test'\n"
   ]
  },
  {
   "cell_type": "code",
   "execution_count": 5,
   "id": "1e0fecf1-03b8-4d13-8c31-e8b2982d281e",
   "metadata": {},
   "outputs": [],
   "source": [
    "transform = transforms.Compose([\n",
    "        np.float32,\n",
    "        transforms.ToTensor(),  # range [0, 255] -> [0.0, 1.0]\n",
    "        Resize((160, 160)),\n",
    "        fixed_image_standardization\n",
    "    ])"
   ]
  },
  {
   "cell_type": "code",
   "execution_count": 6,
   "id": "a00245ca-30a1-48dc-9731-06d00c8df6fe",
   "metadata": {},
   "outputs": [],
   "source": [
    "test_dataset = Crawling_Nomal_Dataset(test_path, transforms=transform)\n",
    "# test_dataset = Crawling_Nomal_Dataset(test_path, transforms=tr)\n",
    "test_data_loader = data.DataLoader(test_dataset, batch_size=1, shuffle=False, num_workers=2, drop_last=False)"
   ]
  },
  {
   "cell_type": "code",
   "execution_count": 7,
   "id": "812bdd8f-5278-45dc-9444-d2bd7e9e3ff3",
   "metadata": {},
   "outputs": [],
   "source": [
    "from backbones import IResNet, IBasicBlock, get_model, iresnet50\n",
    "# from backbones.backbone_jh import get_model\n",
    "from backbones.Inception_resnet import InceptionResnetV1\n",
    "import pandas as pd"
   ]
  },
  {
   "cell_type": "code",
   "execution_count": 8,
   "id": "0510d7b0-6a04-4b3a-b707-2db7263ed0d9",
   "metadata": {},
   "outputs": [
    {
     "name": "stdout",
     "output_type": "stream",
     "text": [
      "8631\n"
     ]
    }
   ],
   "source": [
    "model = get_model('facenet')"
   ]
  },
  {
   "cell_type": "code",
   "execution_count": 9,
   "id": "171cf054-0bbe-4e75-aa13-cc9675175c46",
   "metadata": {},
   "outputs": [
    {
     "name": "stdout",
     "output_type": "stream",
     "text": [
      "8631\n"
     ]
    }
   ],
   "source": [
    "model = InceptionResnetV1(\n",
    "    classify=False,\n",
    "    pretrained='vggface2'\n",
    ").to(device)"
   ]
  },
  {
   "cell_type": "code",
   "execution_count": 10,
   "id": "f86a94dd-b04d-4532-ad53-c30ab6ac121c",
   "metadata": {},
   "outputs": [],
   "source": [
    "# model_path = '/opt/ml/Facial_verification/workspace/re_bat64_lr_7e-4_20230815_154634/final.pt'"
   ]
  },
  {
   "cell_type": "code",
   "execution_count": 11,
   "id": "12ad2e43-0982-49de-b203-a9a6b94c483c",
   "metadata": {},
   "outputs": [],
   "source": [
    "# model.load_state_dict(torch.load(model_path))"
   ]
  },
  {
   "cell_type": "code",
   "execution_count": 12,
   "id": "ef6cf553-8b27-42d1-81f0-1919564458b9",
   "metadata": {},
   "outputs": [],
   "source": [
    "# model = InceptionResnetV1(\n",
    "#     classify=False,\n",
    "#     pretrained='vggface2'\n",
    "# ).to(device)"
   ]
  },
  {
   "cell_type": "code",
   "execution_count": 13,
   "id": "0c108a1c-5b8f-42d6-9a35-b347ea52e689",
   "metadata": {},
   "outputs": [
    {
     "name": "stdout",
     "output_type": "stream",
     "text": [
      "0.2369 0.0495\n",
      "0.397 0.0702\n",
      "threshold :  0.28490000176429753\n",
      "[[2217   83]\n",
      " [ 158  922]]\n",
      "acc    :  0.928698224852071\n",
      "recall :  0.8537037037037037\n",
      "f1     :  0.8844124700239808\n",
      "precision :  0.9174129353233831\n"
     ]
    }
   ],
   "source": [
    "df,acc, recall, f1, precision = validation(model, test_data_loader, test_path,kde=True, distance_way=1)"
   ]
  },
  {
   "cell_type": "code",
   "execution_count": 14,
   "id": "c88f2489-f6f6-4611-aec2-76e57c719a28",
   "metadata": {},
   "outputs": [
    {
     "data": {
      "text/plain": [
       "<Axes: ylabel='Density'>"
      ]
     },
     "execution_count": 14,
     "metadata": {},
     "output_type": "execute_result"
    },
    {
     "data": {
      "image/png": "[encoded data removed]",
      "text/plain": [
       "<Figure size 640x480 with 1 Axes>"
      ]
     },
     "metadata": {},
     "output_type": "display_data"
    }
   ],
   "source": [
    "df[df.decision == \"Yes\"].distance.plot.kde()\n",
    "df[df.decision == \"No\"].distance.plot.kde()"
   ]
  },
  {
   "cell_type": "code",
   "execution_count": null,
   "id": "2f7110fa-4f88-47ce-b000-63824c6d2d17",
   "metadata": {},
   "outputs": [],
   "source": []
  }
 ],
 "metadata": {
  "kernelspec": {
   "display_name": "Python 3 (ipykernel)",
   "language": "python",
   "name": "python3"
  },
  "language_info": {
   "codemirror_mode": {
    "name": "ipython",
    "version": 3
   },
   "file_extension": ".py",
   "mimetype": "text/x-python",
   "name": "python",
   "nbconvert_exporter": "python",
   "pygments_lexer": "ipython3",
   "version": "3.8.5"
  }
 },
 "nbformat": 4,
 "nbformat_minor": 5
}
